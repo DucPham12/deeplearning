{
 "cells": [
  {
   "cell_type": "code",
   "execution_count": 1,
   "id": "17075b15-7754-4bd1-9c7f-c2d1e91f7a73",
   "metadata": {
    "tags": []
   },
   "outputs": [],
   "source": [
    "import numpy as np\n",
    "import torch\n",
    "import pickle\n",
    "import torch.nn as nn\n",
    "import torch.optim as optim\n",
    "from torch.utils.data import Dataset, DataLoader"
   ]
  },
  {
   "cell_type": "code",
   "execution_count": 3,
   "id": "d5aeae91-3fe9-418e-97ac-f4dd1ba777b5",
   "metadata": {
    "tags": []
   },
   "outputs": [
    {
     "data": {
      "text/html": [
       "<div>\n",
       "<style scoped>\n",
       "    .dataframe tbody tr th:only-of-type {\n",
       "        vertical-align: middle;\n",
       "    }\n",
       "\n",
       "    .dataframe tbody tr th {\n",
       "        vertical-align: top;\n",
       "    }\n",
       "\n",
       "    .dataframe thead th {\n",
       "        text-align: right;\n",
       "    }\n",
       "</style>\n",
       "<table border=\"1\" class=\"dataframe\">\n",
       "  <thead>\n",
       "    <tr style=\"text-align: right;\">\n",
       "      <th></th>\n",
       "      <th>Unnamed: 0</th>\n",
       "      <th>question</th>\n",
       "      <th>answer</th>\n",
       "      <th>topic</th>\n",
       "    </tr>\n",
       "  </thead>\n",
       "  <tbody>\n",
       "    <tr>\n",
       "      <th>0</th>\n",
       "      <td>0</td>\n",
       "      <td>have you read the communist</td>\n",
       "      <td>yes, marx had made some interesting observations.</td>\n",
       "      <td>politics</td>\n",
       "    </tr>\n",
       "    <tr>\n",
       "      <th>1</th>\n",
       "      <td>1</td>\n",
       "      <td>what is a government</td>\n",
       "      <td>ideally it is a representative of the people.</td>\n",
       "      <td>politics</td>\n",
       "    </tr>\n",
       "    <tr>\n",
       "      <th>2</th>\n",
       "      <td>2</td>\n",
       "      <td>what is greenpeace</td>\n",
       "      <td>global organization promoting enviornmental ac...</td>\n",
       "      <td>politics</td>\n",
       "    </tr>\n",
       "    <tr>\n",
       "      <th>3</th>\n",
       "      <td>3</td>\n",
       "      <td>what is capitalism</td>\n",
       "      <td>the economic system in which all or most of th...</td>\n",
       "      <td>politics</td>\n",
       "    </tr>\n",
       "    <tr>\n",
       "      <th>4</th>\n",
       "      <td>4</td>\n",
       "      <td>what is socialism</td>\n",
       "      <td>communism from people who want to keep their v...</td>\n",
       "      <td>politics</td>\n",
       "    </tr>\n",
       "    <tr>\n",
       "      <th>...</th>\n",
       "      <td>...</td>\n",
       "      <td>...</td>\n",
       "      <td>...</td>\n",
       "      <td>...</td>\n",
       "    </tr>\n",
       "    <tr>\n",
       "      <th>561</th>\n",
       "      <td>561</td>\n",
       "      <td>chemistry</td>\n",
       "      <td>my favorite subject is chemistry</td>\n",
       "      <td>science</td>\n",
       "    </tr>\n",
       "    <tr>\n",
       "      <th>562</th>\n",
       "      <td>562</td>\n",
       "      <td>the same wavelength</td>\n",
       "      <td>it means we agree.</td>\n",
       "      <td>science</td>\n",
       "    </tr>\n",
       "    <tr>\n",
       "      <th>563</th>\n",
       "      <td>563</td>\n",
       "      <td>tell me about venus</td>\n",
       "      <td>what is venus</td>\n",
       "      <td>science</td>\n",
       "    </tr>\n",
       "    <tr>\n",
       "      <th>564</th>\n",
       "      <td>564</td>\n",
       "      <td>tell me about venus</td>\n",
       "      <td>venus is the second planet from the sun.</td>\n",
       "      <td>science</td>\n",
       "    </tr>\n",
       "    <tr>\n",
       "      <th>565</th>\n",
       "      <td>565</td>\n",
       "      <td>How is your health?</td>\n",
       "      <td>I'm not feeling well</td>\n",
       "      <td>health</td>\n",
       "    </tr>\n",
       "  </tbody>\n",
       "</table>\n",
       "<p>566 rows × 4 columns</p>\n",
       "</div>"
      ],
      "text/plain": [
       "     Unnamed: 0                     question  \\\n",
       "0             0  have you read the communist   \n",
       "1             1         what is a government   \n",
       "2             2           what is greenpeace   \n",
       "3             3           what is capitalism   \n",
       "4             4            what is socialism   \n",
       "..          ...                          ...   \n",
       "561         561                    chemistry   \n",
       "562         562          the same wavelength   \n",
       "563         563          tell me about venus   \n",
       "564         564          tell me about venus   \n",
       "565         565          How is your health?   \n",
       "\n",
       "                                                answer     topic  \n",
       "0    yes, marx had made some interesting observations.  politics  \n",
       "1        ideally it is a representative of the people.  politics  \n",
       "2    global organization promoting enviornmental ac...  politics  \n",
       "3    the economic system in which all or most of th...  politics  \n",
       "4    communism from people who want to keep their v...  politics  \n",
       "..                                                 ...       ...  \n",
       "561                   my favorite subject is chemistry   science  \n",
       "562                                 it means we agree.   science  \n",
       "563                                      what is venus   science  \n",
       "564           venus is the second planet from the sun.   science  \n",
       "565                               I'm not feeling well    health  \n",
       "\n",
       "[566 rows x 4 columns]"
      ]
     },
     "execution_count": 3,
     "metadata": {},
     "output_type": "execute_result"
    }
   ],
   "source": [
    "import pandas as pd\n",
    "df = pd.read_csv('chatbot.csv')\n",
    "df"
   ]
  },
  {
   "cell_type": "code",
   "execution_count": 4,
   "id": "38bd7b6d-a67c-48be-b6bf-7772bb7ae29d",
   "metadata": {
    "tags": []
   },
   "outputs": [
    {
     "name": "stdout",
     "output_type": "stream",
     "text": [
      "['have you read the communist', 'what is a government']\n",
      "['yes, marx had made some interesting observations.', 'ideally it is a representative of the people.']\n"
     ]
    }
   ],
   "source": [
    "questions = list(df['question'])\n",
    "answers = list(df['answer'])\n",
    "print(questions[:2])\n",
    "print(answers[:2])"
   ]
  },
  {
   "cell_type": "code",
   "execution_count": 21,
   "id": "c27292fa-d2ed-4a66-8772-0f0e29b4be34",
   "metadata": {
    "tags": []
   },
   "outputs": [
    {
     "name": "stdout",
     "output_type": "stream",
     "text": [
      "Collecting torchtext\n",
      "  Obtaining dependency information for torchtext from https://files.pythonhosted.org/packages/b2/cd/add336798f3ebfecaadf1f5aed211216ae9ecb6af3d82e62ecc0af9bbdd8/torchtext-0.17.1-cp311-cp311-win_amd64.whl.metadata\n",
      "  Downloading torchtext-0.17.1-cp311-cp311-win_amd64.whl.metadata (7.6 kB)\n",
      "Requirement already satisfied: tqdm in c:\\users\\dell\\anaconda3\\lib\\site-packages (from torchtext) (4.65.0)\n",
      "Requirement already satisfied: requests in c:\\users\\dell\\anaconda3\\lib\\site-packages (from torchtext) (2.31.0)\n",
      "Requirement already satisfied: torch==2.2.1 in c:\\users\\dell\\anaconda3\\lib\\site-packages (from torchtext) (2.2.1)\n",
      "Requirement already satisfied: numpy in c:\\users\\dell\\anaconda3\\lib\\site-packages (from torchtext) (1.24.3)\n",
      "Collecting torchdata==0.7.1 (from torchtext)\n",
      "  Obtaining dependency information for torchdata==0.7.1 from https://files.pythonhosted.org/packages/da/8d/e0413f91944f931cb5c685cbd6330ad450f9d5466c466822d25761ca772d/torchdata-0.7.1-cp311-cp311-win_amd64.whl.metadata\n",
      "  Downloading torchdata-0.7.1-cp311-cp311-win_amd64.whl.metadata (13 kB)\n",
      "Requirement already satisfied: filelock in c:\\users\\dell\\anaconda3\\lib\\site-packages (from torch==2.2.1->torchtext) (3.9.0)\n",
      "Collecting typing-extensions>=4.8.0 (from torch==2.2.1->torchtext)\n",
      "  Obtaining dependency information for typing-extensions>=4.8.0 from https://files.pythonhosted.org/packages/f9/de/dc04a3ea60b22624b51c703a84bbe0184abcd1d0b9bc8074b5d6b7ab90bb/typing_extensions-4.10.0-py3-none-any.whl.metadata\n",
      "  Downloading typing_extensions-4.10.0-py3-none-any.whl.metadata (3.0 kB)\n",
      "Requirement already satisfied: sympy in c:\\users\\dell\\anaconda3\\lib\\site-packages (from torch==2.2.1->torchtext) (1.11.1)\n",
      "Requirement already satisfied: networkx in c:\\users\\dell\\anaconda3\\lib\\site-packages (from torch==2.2.1->torchtext) (3.1)\n",
      "Requirement already satisfied: jinja2 in c:\\users\\dell\\anaconda3\\lib\\site-packages (from torch==2.2.1->torchtext) (3.1.2)\n",
      "Requirement already satisfied: fsspec in c:\\users\\dell\\anaconda3\\lib\\site-packages (from torch==2.2.1->torchtext) (2023.3.0)\n",
      "Requirement already satisfied: urllib3>=1.25 in c:\\users\\dell\\anaconda3\\lib\\site-packages (from torchdata==0.7.1->torchtext) (1.26.16)\n",
      "Requirement already satisfied: charset-normalizer<4,>=2 in c:\\users\\dell\\anaconda3\\lib\\site-packages (from requests->torchtext) (2.0.4)\n",
      "Requirement already satisfied: idna<4,>=2.5 in c:\\users\\dell\\anaconda3\\lib\\site-packages (from requests->torchtext) (3.4)\n",
      "Requirement already satisfied: certifi>=2017.4.17 in c:\\users\\dell\\anaconda3\\lib\\site-packages (from requests->torchtext) (2024.2.2)\n",
      "Requirement already satisfied: colorama in c:\\users\\dell\\anaconda3\\lib\\site-packages (from tqdm->torchtext) (0.4.6)\n",
      "Requirement already satisfied: MarkupSafe>=2.0 in c:\\users\\dell\\anaconda3\\lib\\site-packages (from jinja2->torch==2.2.1->torchtext) (2.1.1)\n",
      "Requirement already satisfied: mpmath>=0.19 in c:\\users\\dell\\anaconda3\\lib\\site-packages (from sympy->torch==2.2.1->torchtext) (1.3.0)\n",
      "Downloading torchtext-0.17.1-cp311-cp311-win_amd64.whl (1.9 MB)\n",
      "   ---------------------------------------- 0.0/1.9 MB ? eta -:--:--\n",
      "   - -------------------------------------- 0.1/1.9 MB 1.1 MB/s eta 0:00:02\n",
      "   ---- ----------------------------------- 0.2/1.9 MB 2.1 MB/s eta 0:00:01\n",
      "   --------- ------------------------------ 0.5/1.9 MB 3.1 MB/s eta 0:00:01\n",
      "   ----------------- ---------------------- 0.9/1.9 MB 4.6 MB/s eta 0:00:01\n",
      "   ------------------------------- -------- 1.6/1.9 MB 6.6 MB/s eta 0:00:01\n",
      "   ---------------------------------------  1.9/1.9 MB 6.9 MB/s eta 0:00:01\n",
      "   ---------------------------------------- 1.9/1.9 MB 6.5 MB/s eta 0:00:00\n",
      "Downloading torchdata-0.7.1-cp311-cp311-win_amd64.whl (1.3 MB)\n",
      "   ---------------------------------------- 0.0/1.3 MB ? eta -:--:--\n",
      "   -------------------- ------------------- 0.7/1.3 MB 14.6 MB/s eta 0:00:01\n",
      "   ---------------------------------------  1.3/1.3 MB 16.8 MB/s eta 0:00:01\n",
      "   ---------------------------------------- 1.3/1.3 MB 14.0 MB/s eta 0:00:00\n",
      "Downloading typing_extensions-4.10.0-py3-none-any.whl (33 kB)\n",
      "Installing collected packages: typing-extensions, torchdata, torchtext\n",
      "  Attempting uninstall: typing-extensions\n",
      "    Found existing installation: typing_extensions 4.7.1\n",
      "    Uninstalling typing_extensions-4.7.1:\n",
      "      Successfully uninstalled typing_extensions-4.7.1\n",
      "Successfully installed torchdata-0.7.1 torchtext-0.17.1 typing-extensions-4.10.0\n",
      "Note: you may need to restart the kernel to use updated packages.\n"
     ]
    }
   ],
   "source": [
    "pip install torchtext"
   ]
  },
  {
   "cell_type": "code",
   "execution_count": 24,
   "id": "7980b6b1-23e4-4107-ba7b-baffed8e7da7",
   "metadata": {
    "tags": []
   },
   "outputs": [
    {
     "name": "stdout",
     "output_type": "stream",
     "text": [
      "Requirement already satisfied: torchtext in c:\\users\\dell\\anaconda3\\lib\\site-packages (0.17.1)\n",
      "Requirement already satisfied: tqdm in c:\\users\\dell\\anaconda3\\lib\\site-packages (from torchtext) (4.65.0)\n",
      "Requirement already satisfied: requests in c:\\users\\dell\\anaconda3\\lib\\site-packages (from torchtext) (2.31.0)\n",
      "Requirement already satisfied: torch==2.2.1 in c:\\users\\dell\\anaconda3\\lib\\site-packages (from torchtext) (2.2.1)\n",
      "Requirement already satisfied: numpy in c:\\users\\dell\\anaconda3\\lib\\site-packages (from torchtext) (1.24.3)\n",
      "Requirement already satisfied: torchdata==0.7.1 in c:\\users\\dell\\anaconda3\\lib\\site-packages (from torchtext) (0.7.1)\n",
      "Requirement already satisfied: filelock in c:\\users\\dell\\anaconda3\\lib\\site-packages (from torch==2.2.1->torchtext) (3.9.0)\n",
      "Requirement already satisfied: typing-extensions>=4.8.0 in c:\\users\\dell\\anaconda3\\lib\\site-packages (from torch==2.2.1->torchtext) (4.10.0)\n",
      "Requirement already satisfied: sympy in c:\\users\\dell\\anaconda3\\lib\\site-packages (from torch==2.2.1->torchtext) (1.11.1)\n",
      "Requirement already satisfied: networkx in c:\\users\\dell\\anaconda3\\lib\\site-packages (from torch==2.2.1->torchtext) (3.1)\n",
      "Requirement already satisfied: jinja2 in c:\\users\\dell\\anaconda3\\lib\\site-packages (from torch==2.2.1->torchtext) (3.1.2)\n",
      "Requirement already satisfied: fsspec in c:\\users\\dell\\anaconda3\\lib\\site-packages (from torch==2.2.1->torchtext) (2023.3.0)\n",
      "Requirement already satisfied: urllib3>=1.25 in c:\\users\\dell\\anaconda3\\lib\\site-packages (from torchdata==0.7.1->torchtext) (1.26.16)\n",
      "Requirement already satisfied: charset-normalizer<4,>=2 in c:\\users\\dell\\anaconda3\\lib\\site-packages (from requests->torchtext) (2.0.4)\n",
      "Requirement already satisfied: idna<4,>=2.5 in c:\\users\\dell\\anaconda3\\lib\\site-packages (from requests->torchtext) (3.4)\n",
      "Requirement already satisfied: certifi>=2017.4.17 in c:\\users\\dell\\anaconda3\\lib\\site-packages (from requests->torchtext) (2024.2.2)\n",
      "Requirement already satisfied: colorama in c:\\users\\dell\\anaconda3\\lib\\site-packages (from tqdm->torchtext) (0.4.6)\n",
      "Requirement already satisfied: MarkupSafe>=2.0 in c:\\users\\dell\\anaconda3\\lib\\site-packages (from jinja2->torch==2.2.1->torchtext) (2.1.1)\n",
      "Requirement already satisfied: mpmath>=0.19 in c:\\users\\dell\\anaconda3\\lib\\site-packages (from sympy->torch==2.2.1->torchtext) (1.3.0)\n",
      "Note: you may need to restart the kernel to use updated packages.\n"
     ]
    }
   ],
   "source": [
    "pip install --upgrade torchtext"
   ]
  },
  {
   "cell_type": "code",
   "execution_count": 27,
   "id": "8d37b6b6-2115-40fb-a76a-c72963e671b8",
   "metadata": {
    "tags": []
   },
   "outputs": [
    {
     "name": "stdout",
     "output_type": "stream",
     "text": [
      "VOCAB SIZE : 2035\n"
     ]
    }
   ],
   "source": [
    "from collections import Counter\n",
    "from itertools import chain\n",
    "\n",
    "# Join 'start' with questions and answers\n",
    "data = ['start'] + questions + answers\n",
    "# Tokenize the data\n",
    "tokenized_data = [sentence.split() for sentence in data]\n",
    "# Count the occurrences of each word\n",
    "word_counts = Counter(chain(*tokenized_data))\n",
    "# Build a vocabulary from the word counts\n",
    "word_to_idx = {word: idx for idx, (word, _) in enumerate(word_counts.items(), 1)}\n",
    "# Get the vocabulary size\n",
    "VOCAB_SIZE = len(word_to_idx) + 1  # Add one for the unknown token\n",
    "print('VOCAB SIZE : {}'.format(VOCAB_SIZE))"
   ]
  },
  {
   "cell_type": "code",
   "execution_count": 17,
   "id": "36872854-b557-45f4-bf08-bcbb1151b2f1",
   "metadata": {
    "tags": []
   },
   "outputs": [],
   "source": [
    "import re\n",
    "from gensim.models import Word2Vec\n",
    "\n",
    "# Chuẩn bị dữ liệu\n",
    "data = ['start'] + questions + answers\n",
    "\n",
    "# Làm sạch và mã hóa văn bản\n",
    "def tokenize(sentences):\n",
    "    tokens_list = []\n",
    "    vocabulary = []\n",
    "    for sentence in sentences:\n",
    "        sentence = sentence.lower()\n",
    "        sentence = re.sub('[^a-zA-Z]', ' ', sentence)\n",
    "        tokens = sentence.split()\n",
    "        vocabulary += tokens\n",
    "        tokens_list.append(tokens)\n",
    "    return tokens_list, vocabulary\n",
    "\n"
   ]
  },
  {
   "cell_type": "code",
   "execution_count": 18,
   "id": "0cc89649-80b3-40fa-b5ef-9dd55200bc28",
   "metadata": {
    "tags": []
   },
   "outputs": [
    {
     "ename": "NameError",
     "evalue": "name 'tokenized_questions' is not defined",
     "output_type": "error",
     "traceback": [
      "\u001b[1;31m---------------------------------------------------------------------------\u001b[0m",
      "\u001b[1;31mNameError\u001b[0m                                 Traceback (most recent call last)",
      "Cell \u001b[1;32mIn[18], line 8\u001b[0m\n\u001b[0;32m      1\u001b[0m \u001b[38;5;28;01mimport\u001b[39;00m \u001b[38;5;21;01mtorch\u001b[39;00m\n\u001b[0;32m      3\u001b[0m \u001b[38;5;66;03m# tokenized_questions: danh sách các câu hỏi đã được mã hóa\u001b[39;00m\n\u001b[0;32m      4\u001b[0m \u001b[38;5;66;03m# Đây là dữ liệu đầu vào cho mô hình encoder\u001b[39;00m\n\u001b[0;32m      5\u001b[0m \u001b[38;5;66;03m# Giả sử bạn đã có tokenized_questions từ quá trình tiền xử lý trước đó\u001b[39;00m\n\u001b[0;32m      6\u001b[0m \n\u001b[0;32m      7\u001b[0m \u001b[38;5;66;03m# Tính toán độ dài tối đa của câu hỏi\u001b[39;00m\n\u001b[1;32m----> 8\u001b[0m maxlen_questions \u001b[38;5;241m=\u001b[39m \u001b[38;5;28mmax\u001b[39m([\u001b[38;5;28mlen\u001b[39m(x) \u001b[38;5;28;01mfor\u001b[39;00m x \u001b[38;5;129;01min\u001b[39;00m tokenized_questions])\n\u001b[0;32m     10\u001b[0m \u001b[38;5;66;03m# Padding các câu hỏi để đảm bảo chúng có cùng độ dài\u001b[39;00m\n\u001b[0;32m     11\u001b[0m padded_questions \u001b[38;5;241m=\u001b[39m []\n",
      "\u001b[1;31mNameError\u001b[0m: name 'tokenized_questions' is not defined"
     ]
    }
   ],
   "source": [
    "import torch\n",
    "\n",
    "# tokenized_questions: danh sách các câu hỏi đã được mã hóa\n",
    "# Đây là dữ liệu đầu vào cho mô hình encoder\n",
    "# Giả sử bạn đã có tokenized_questions từ quá trình tiền xử lý trước đó\n",
    "\n",
    "# Tính toán độ dài tối đa của câu hỏi\n",
    "maxlen_questions = max([len(x) for x in tokenized_questions])\n",
    "\n",
    "# Padding các câu hỏi để đảm bảo chúng có cùng độ dài\n",
    "padded_questions = []\n",
    "for question in tokenized_questions:\n",
    "    padded_question = question[:maxlen_questions] + [0] * (maxlen_questions - len(question))\n",
    "    padded_questions.append(padded_question)\n",
    "\n",
    "# Chuyển đổi thành mảng numpy\n",
    "encoder_input_data = np.array(padded_questions)\n",
    "\n",
    "# In ra thông tin về shape và các phần tử đầu tiên của encoder_input_data\n",
    "print(encoder_input_data.shape, maxlen_questions)\n",
    "print(encoder_input_data[0])\n"
   ]
  }
 ],
 "metadata": {
  "kernelspec": {
   "display_name": "Python 3 (ipykernel)",
   "language": "python",
   "name": "python3"
  },
  "language_info": {
   "codemirror_mode": {
    "name": "ipython",
    "version": 3
   },
   "file_extension": ".py",
   "mimetype": "text/x-python",
   "name": "python",
   "nbconvert_exporter": "python",
   "pygments_lexer": "ipython3",
   "version": "3.11.4"
  }
 },
 "nbformat": 4,
 "nbformat_minor": 5
}
